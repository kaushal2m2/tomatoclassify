{
 "cells": [
  {
   "cell_type": "code",
   "execution_count": 6,
   "id": "5d7dc161",
   "metadata": {},
   "outputs": [],
   "source": [
    "import tensorflow as tf\n",
    "from tensorflow.keras import models, layers\n",
    "import matplotlib.pyplot as plt"
   ]
  },
  {
   "cell_type": "code",
   "execution_count": 2,
   "id": "4a55895f",
   "metadata": {},
   "outputs": [
    {
     "data": {
      "text/plain": [
       "[PhysicalDevice(name='/physical_device:CPU:0', device_type='CPU'),\n",
       " PhysicalDevice(name='/physical_device:GPU:0', device_type='GPU')]"
      ]
     },
     "execution_count": 2,
     "metadata": {},
     "output_type": "execute_result"
    }
   ],
   "source": [
    "IMAGE_SIZE = 256\n",
    "BATCH_SIZE = 32\n",
    "CHANNELS = 3\n",
    "EPOCHS = 35\n",
    "n_classes = 10\n",
    "\n",
    "tf.config.get_visible_devices()"
   ]
  },
  {
   "cell_type": "code",
   "execution_count": 3,
   "id": "403d4616",
   "metadata": {},
   "outputs": [
    {
     "name": "stdout",
     "output_type": "stream",
     "text": [
      "Found 16011 files belonging to 10 classes.\n"
     ]
    }
   ],
   "source": [
    "dataset = tf.keras.preprocessing.image_dataset_from_directory(\n",
    "    \"Tomatoes\",\n",
    "    shuffle=True,\n",
    "    image_size=(IMAGE_SIZE, IMAGE_SIZE),\n",
    "    batch_size=BATCH_SIZE,\n",
    ")"
   ]
  },
  {
   "cell_type": "code",
   "execution_count": 4,
   "id": "cc0673e5",
   "metadata": {},
   "outputs": [
    {
     "name": "stdout",
     "output_type": "stream",
     "text": [
      "['Tomato_Bacterial_spot', 'Tomato_Early_blight', 'Tomato_Late_blight', 'Tomato_Leaf_Mold', 'Tomato_Septoria_leaf_spot', 'Tomato_Spider_mites_Two_spotted_spider_mite', 'Tomato__Target_Spot', 'Tomato__Tomato_YellowLeaf__Curl_Virus', 'Tomato__Tomato_mosaic_virus', 'Tomato_healthy']\n"
     ]
    }
   ],
   "source": [
    "class_names = dataset.class_names\n",
    "print(class_names)"
   ]
  },
  {
   "cell_type": "code",
   "execution_count": 5,
   "id": "b986a774",
   "metadata": {},
   "outputs": [],
   "source": [
    "def get_dataset_partitions_tf(\n",
    "    ds, train_split=0.8, val_split=0.1, test_split=0.1, shuffle=True, shuffle_size=10000\n",
    "):\n",
    "    ds_size = len(ds)\n",
    "    train_size = int(train_split * ds_size)\n",
    "    val_size = int(val_split * ds_size)\n",
    "\n",
    "    if shuffle:\n",
    "        ds.shuffle(shuffle_size, seed=22)\n",
    "\n",
    "    train_ds = ds.take(train_size)\n",
    "    val_ds = ds.skip(train_size).take(val_size)\n",
    "    test_ds = ds.skip(train_size + val_size)\n",
    "\n",
    "    return train_ds, val_ds, test_ds"
   ]
  },
  {
   "cell_type": "code",
   "execution_count": 6,
   "id": "4793f273",
   "metadata": {},
   "outputs": [],
   "source": [
    "train_ds, val_ds, test_ds = get_dataset_partitions_tf(dataset)\n",
    "train_ds = train_ds.cache().shuffle(1000).prefetch(buffer_size=tf.data.AUTOTUNE)\n",
    "val_ds = val_ds.cache().shuffle(1000).prefetch(buffer_size=tf.data.AUTOTUNE)\n",
    "test_ds = test_ds.cache().shuffle(1000).prefetch(buffer_size=tf.data.AUTOTUNE)\n",
    "# caches images for next epoch, prefetch fetches next batch before next iteration"
   ]
  },
  {
   "cell_type": "code",
   "execution_count": 7,
   "id": "a311b099",
   "metadata": {},
   "outputs": [],
   "source": [
    "resize_and_rescale = tf.keras.Sequential(\n",
    "    [\n",
    "        layers.experimental.preprocessing.Resizing(IMAGE_SIZE, IMAGE_SIZE),\n",
    "        layers.experimental.preprocessing.Rescaling(1.0 / 255),\n",
    "    ]\n",
    ")"
   ]
  },
  {
   "cell_type": "code",
   "execution_count": 8,
   "id": "8be0e52d",
   "metadata": {},
   "outputs": [],
   "source": [
    "data_augmentation = tf.keras.Sequential(\n",
    "        [\n",
    "            layers.experimental.preprocessing.RandomFlip(\"horizontal_and_vertical\"),\n",
    "            layers.experimental.preprocessing.RandomRotation(0.2),\n",
    "        ]\n",
    "    )"
   ]
  },
  {
   "cell_type": "code",
   "execution_count": 9,
   "id": "7063d321",
   "metadata": {},
   "outputs": [],
   "source": [
    "input_shape = (BATCH_SIZE, IMAGE_SIZE, IMAGE_SIZE, CHANNELS)"
   ]
  },
  {
   "cell_type": "code",
   "execution_count": 10,
   "id": "2e4fb8fa",
   "metadata": {},
   "outputs": [],
   "source": [
    "model = models.Sequential(\n",
    "    [\n",
    "        resize_and_rescale,\n",
    "        data_augmentation,\n",
    "        layers.Conv2D(32, (3, 3), activation=\"relu\", input_shape=input_shape),\n",
    "        layers.MaxPooling2D((2, 2)),\n",
    "        layers.Conv2D(\n",
    "            64,\n",
    "            (3, 3),\n",
    "            activation=\"relu\",\n",
    "            padding=\"same\",\n",
    "        ),\n",
    "        layers.MaxPooling2D((2, 2)),\n",
    "        layers.Conv2D(\n",
    "            64,\n",
    "            (3, 3),\n",
    "            activation=\"relu\",\n",
    "            padding=\"same\",\n",
    "        ),\n",
    "        layers.MaxPooling2D((2, 2)),\n",
    "        layers.Conv2D(\n",
    "            64,\n",
    "            (3, 3),\n",
    "            activation=\"relu\",\n",
    "            padding=\"same\",\n",
    "        ),\n",
    "        layers.MaxPooling2D((2, 2)),\n",
    "        layers.Conv2D(\n",
    "            64,\n",
    "            (3, 3),\n",
    "            activation=\"relu\",\n",
    "            padding=\"same\",\n",
    "        ),\n",
    "        layers.MaxPooling2D((2, 2)),\n",
    "        layers.Conv2D(\n",
    "            64,\n",
    "            (3, 3),\n",
    "            activation=\"relu\",\n",
    "            padding=\"same\",\n",
    "        ),\n",
    "        layers.MaxPooling2D((2, 2)),\n",
    "        layers.Conv2D(\n",
    "            64,\n",
    "            (3, 3),\n",
    "            activation=\"relu\",\n",
    "            padding=\"same\",\n",
    "        ),\n",
    "        layers.MaxPooling2D((2, 2)),\n",
    "        layers.Flatten(),\n",
    "        layers.Dense(64, activation=\"relu\"),\n",
    "        layers.Dense(n_classes, activation=\"softmax\"),\n",
    "    ]\n",
    ")"
   ]
  },
  {
   "cell_type": "code",
   "execution_count": 11,
   "id": "34ffc3d0",
   "metadata": {},
   "outputs": [],
   "source": [
    "model.build(input_shape=input_shape)"
   ]
  },
  {
   "cell_type": "code",
   "execution_count": 12,
   "id": "d4e422ab",
   "metadata": {},
   "outputs": [],
   "source": [
    "model.compile(\n",
    "    optimizer=tf.keras.optimizers.legacy.Adam(learning_rate=0.0001),\n",
    "    loss=tf.keras.losses.SparseCategoricalCrossentropy(from_logits=False),\n",
    "    metrics=[\"accuracy\"],\n",
    ")"
   ]
  },
  {
   "cell_type": "code",
   "execution_count": 13,
   "id": "f8164af1",
   "metadata": {},
   "outputs": [
    {
     "name": "stdout",
     "output_type": "stream",
     "text": [
      "Epoch 1/35\n",
      "400/400 [==============================] - 95s 224ms/step - loss: 1.9711 - accuracy: 0.2840 - val_loss: 1.6809 - val_accuracy: 0.3988\n",
      "Epoch 2/35\n",
      "400/400 [==============================] - 93s 232ms/step - loss: 1.5148 - accuracy: 0.4748 - val_loss: 1.4688 - val_accuracy: 0.5031\n",
      "Epoch 3/35\n",
      "400/400 [==============================] - 92s 230ms/step - loss: 1.1543 - accuracy: 0.5982 - val_loss: 1.3809 - val_accuracy: 0.5481\n",
      "Epoch 4/35\n",
      "400/400 [==============================] - 86s 216ms/step - loss: 1.0040 - accuracy: 0.6534 - val_loss: 1.9319 - val_accuracy: 0.4681\n",
      "Epoch 5/35\n",
      "400/400 [==============================] - 87s 217ms/step - loss: 0.9225 - accuracy: 0.6784 - val_loss: 1.9861 - val_accuracy: 0.4794\n",
      "Epoch 6/35\n",
      "400/400 [==============================] - 87s 217ms/step - loss: 0.9876 - accuracy: 0.6588 - val_loss: 1.9857 - val_accuracy: 0.5063\n",
      "Epoch 7/35\n",
      "400/400 [==============================] - 86s 216ms/step - loss: 0.8502 - accuracy: 0.7087 - val_loss: 1.9567 - val_accuracy: 0.5056\n",
      "Epoch 8/35\n",
      "400/400 [==============================] - 79s 198ms/step - loss: 0.8947 - accuracy: 0.6941 - val_loss: 1.0942 - val_accuracy: 0.6819\n",
      "Epoch 9/35\n",
      "400/400 [==============================] - 79s 196ms/step - loss: 0.7917 - accuracy: 0.7296 - val_loss: 1.6828 - val_accuracy: 0.5813\n",
      "Epoch 10/35\n",
      "400/400 [==============================] - 82s 204ms/step - loss: 0.7873 - accuracy: 0.7341 - val_loss: 1.9723 - val_accuracy: 0.5437\n",
      "Epoch 11/35\n",
      "400/400 [==============================] - 83s 206ms/step - loss: 0.7195 - accuracy: 0.7549 - val_loss: 1.4654 - val_accuracy: 0.6194\n",
      "Epoch 12/35\n",
      "400/400 [==============================] - 79s 197ms/step - loss: 0.6974 - accuracy: 0.7584 - val_loss: 2.0162 - val_accuracy: 0.5663\n",
      "Epoch 13/35\n",
      "400/400 [==============================] - 81s 202ms/step - loss: 0.6367 - accuracy: 0.7813 - val_loss: 1.8798 - val_accuracy: 0.5888\n",
      "Epoch 14/35\n",
      "400/400 [==============================] - 87s 216ms/step - loss: 0.6250 - accuracy: 0.7898 - val_loss: 1.3023 - val_accuracy: 0.6594\n",
      "Epoch 15/35\n",
      "400/400 [==============================] - 89s 222ms/step - loss: 0.6111 - accuracy: 0.7886 - val_loss: 1.3933 - val_accuracy: 0.6562\n",
      "Epoch 16/35\n",
      "400/400 [==============================] - 87s 218ms/step - loss: 0.5948 - accuracy: 0.8016 - val_loss: 1.1773 - val_accuracy: 0.6900\n",
      "Epoch 17/35\n",
      "400/400 [==============================] - 93s 233ms/step - loss: 0.5420 - accuracy: 0.8136 - val_loss: 0.9591 - val_accuracy: 0.7362\n",
      "Epoch 18/35\n",
      "400/400 [==============================] - 86s 214ms/step - loss: 0.5852 - accuracy: 0.8060 - val_loss: 1.0431 - val_accuracy: 0.7231\n",
      "Epoch 19/35\n",
      "400/400 [==============================] - 79s 197ms/step - loss: 0.5700 - accuracy: 0.8111 - val_loss: 1.0446 - val_accuracy: 0.7225\n",
      "Epoch 20/35\n",
      "400/400 [==============================] - 79s 198ms/step - loss: 0.5277 - accuracy: 0.8263 - val_loss: 1.2269 - val_accuracy: 0.7106\n",
      "Epoch 21/35\n",
      "400/400 [==============================] - 81s 203ms/step - loss: 0.5551 - accuracy: 0.8206 - val_loss: 1.4757 - val_accuracy: 0.6913\n",
      "Epoch 22/35\n",
      "400/400 [==============================] - 90s 224ms/step - loss: 0.5558 - accuracy: 0.8270 - val_loss: 1.7254 - val_accuracy: 0.6712\n",
      "Epoch 23/35\n",
      "400/400 [==============================] - 87s 216ms/step - loss: 0.5185 - accuracy: 0.8279 - val_loss: 1.1637 - val_accuracy: 0.7212\n",
      "Epoch 24/35\n",
      "400/400 [==============================] - 91s 227ms/step - loss: 0.5063 - accuracy: 0.8359 - val_loss: 1.3981 - val_accuracy: 0.6938\n",
      "Epoch 25/35\n",
      "400/400 [==============================] - 91s 228ms/step - loss: 0.5001 - accuracy: 0.8422 - val_loss: 1.6913 - val_accuracy: 0.6244\n",
      "Epoch 26/35\n",
      "400/400 [==============================] - 84s 208ms/step - loss: 0.5472 - accuracy: 0.8253 - val_loss: 1.4000 - val_accuracy: 0.7200\n",
      "Epoch 27/35\n",
      "400/400 [==============================] - 81s 203ms/step - loss: 0.5504 - accuracy: 0.8317 - val_loss: 3.3632 - val_accuracy: 0.5387\n",
      "Epoch 28/35\n",
      "400/400 [==============================] - 84s 210ms/step - loss: 0.5091 - accuracy: 0.8409 - val_loss: 2.0586 - val_accuracy: 0.6662\n",
      "Epoch 29/35\n",
      "400/400 [==============================] - 94s 235ms/step - loss: 0.5498 - accuracy: 0.8348 - val_loss: 1.5869 - val_accuracy: 0.6963\n",
      "Epoch 30/35\n",
      "400/400 [==============================] - 91s 227ms/step - loss: 0.5584 - accuracy: 0.8372 - val_loss: 1.6173 - val_accuracy: 0.7050\n",
      "Epoch 31/35\n",
      "400/400 [==============================] - 93s 232ms/step - loss: 0.5700 - accuracy: 0.8336 - val_loss: 2.8067 - val_accuracy: 0.6006\n",
      "Epoch 32/35\n",
      "400/400 [==============================] - 94s 234ms/step - loss: 0.5792 - accuracy: 0.8312 - val_loss: 3.0683 - val_accuracy: 0.5925\n",
      "Epoch 33/35\n",
      "400/400 [==============================] - 94s 234ms/step - loss: 0.5969 - accuracy: 0.8306 - val_loss: 3.7034 - val_accuracy: 0.5806\n",
      "Epoch 34/35\n",
      "400/400 [==============================] - 96s 240ms/step - loss: 0.5524 - accuracy: 0.8404 - val_loss: 3.6531 - val_accuracy: 0.5594\n",
      "Epoch 35/35\n",
      "400/400 [==============================] - 88s 221ms/step - loss: 0.5668 - accuracy: 0.8441 - val_loss: 2.4418 - val_accuracy: 0.6350\n"
     ]
    }
   ],
   "source": [
    "history = model.fit(\n",
    "    train_ds,\n",
    "    epochs=EPOCHS,\n",
    "    batch_size=BATCH_SIZE,\n",
    "    verbose=1,\n",
    "    validation_data=val_ds,\n",
    ")"
   ]
  },
  {
   "cell_type": "code",
   "execution_count": 20,
   "id": "1290696b",
   "metadata": {},
   "outputs": [
    {
     "name": "stdout",
     "output_type": "stream",
     "text": [
      "[PhysicalDevice(name='/physical_device:GPU:0', device_type='GPU')]\n"
     ]
    }
   ],
   "source": [
    "print(tf.config.list_physical_devices('GPU'))"
   ]
  },
  {
   "cell_type": "code",
   "execution_count": 14,
   "id": "5ae826c3",
   "metadata": {},
   "outputs": [
    {
     "name": "stdout",
     "output_type": "stream",
     "text": [
      "51/51 [==============================] - 5s 45ms/step - loss: 2.4142 - accuracy: 0.6189\n"
     ]
    }
   ],
   "source": [
    "scores = model.evaluate(test_ds)"
   ]
  },
  {
   "cell_type": "code",
   "execution_count": 15,
   "id": "89eaf562",
   "metadata": {},
   "outputs": [
    {
     "name": "stdout",
     "output_type": "stream",
     "text": [
      "INFO:tensorflow:Assets written to: ../model/2/assets\n"
     ]
    },
    {
     "name": "stderr",
     "output_type": "stream",
     "text": [
      "INFO:tensorflow:Assets written to: ../model/2/assets\n"
     ]
    }
   ],
   "source": [
    "model.save(\"../model/2\")"
   ]
  }
 ],
 "metadata": {
  "kernelspec": {
   "display_name": "Python 3 (ipykernel)",
   "language": "python",
   "name": "python3"
  },
  "language_info": {
   "codemirror_mode": {
    "name": "ipython",
    "version": 3
   },
   "file_extension": ".py",
   "mimetype": "text/x-python",
   "name": "python",
   "nbconvert_exporter": "python",
   "pygments_lexer": "ipython3",
   "version": "3.10.9"
  }
 },
 "nbformat": 4,
 "nbformat_minor": 5
}
