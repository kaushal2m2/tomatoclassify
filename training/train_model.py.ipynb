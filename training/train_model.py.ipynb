{
 "cells": [
  {
   "cell_type": "code",
   "execution_count": 2,
   "id": "5d7dc161",
   "metadata": {},
   "outputs": [],
   "source": [
    "import tensorflow as tf\n",
    "from tensorflow.keras import models, layers\n",
    "import matplotlib.pyplot as plt"
   ]
  },
  {
   "cell_type": "code",
   "execution_count": 3,
   "id": "4a55895f",
   "metadata": {},
   "outputs": [
    {
     "data": {
      "text/plain": [
       "[PhysicalDevice(name='/physical_device:CPU:0', device_type='CPU'),\n",
       " PhysicalDevice(name='/physical_device:GPU:0', device_type='GPU')]"
      ]
     },
     "execution_count": 3,
     "metadata": {},
     "output_type": "execute_result"
    }
   ],
   "source": [
    "IMAGE_SIZE = 256\n",
    "BATCH_SIZE = 64\n",
    "CHANNELS = 3\n",
    "EPOCHS = 35\n",
    "n_classes = 10\n",
    "\n",
    "tf.config.get_visible_devices()"
   ]
  },
  {
   "cell_type": "code",
   "execution_count": 4,
   "id": "403d4616",
   "metadata": {},
   "outputs": [
    {
     "name": "stdout",
     "output_type": "stream",
     "text": [
      "Found 16011 files belonging to 10 classes.\n"
     ]
    }
   ],
   "source": [
    "dataset = tf.keras.preprocessing.image_dataset_from_directory(\n",
    "    \"Tomatoes\",\n",
    "    shuffle=True,\n",
    "    image_size=(IMAGE_SIZE, IMAGE_SIZE),\n",
    "    batch_size=BATCH_SIZE,\n",
    ")"
   ]
  },
  {
   "cell_type": "code",
   "execution_count": 5,
   "id": "cc0673e5",
   "metadata": {},
   "outputs": [
    {
     "name": "stdout",
     "output_type": "stream",
     "text": [
      "['Tomato_Bacterial_spot', 'Tomato_Early_blight', 'Tomato_Late_blight', 'Tomato_Leaf_Mold', 'Tomato_Septoria_leaf_spot', 'Tomato_Spider_mites_Two_spotted_spider_mite', 'Tomato__Target_Spot', 'Tomato__Tomato_YellowLeaf__Curl_Virus', 'Tomato__Tomato_mosaic_virus', 'Tomato_healthy']\n"
     ]
    }
   ],
   "source": [
    "class_names = dataset.class_names\n",
    "print(class_names)"
   ]
  },
  {
   "cell_type": "code",
   "execution_count": 6,
   "id": "b986a774",
   "metadata": {},
   "outputs": [],
   "source": [
    "def get_dataset_partitions_tf(\n",
    "    ds, train_split=0.8, val_split=0.1, test_split=0.1, shuffle=True, shuffle_size=10000\n",
    "):\n",
    "    ds_size = len(ds)\n",
    "    train_size = int(train_split * ds_size)\n",
    "    val_size = int(val_split * ds_size)\n",
    "\n",
    "    if shuffle:\n",
    "        ds.shuffle(shuffle_size, seed=22)\n",
    "\n",
    "    train_ds = ds.take(train_size)\n",
    "    val_ds = ds.skip(train_size).take(val_size)\n",
    "    test_ds = ds.skip(train_size + val_size)\n",
    "\n",
    "    return train_ds, val_ds, test_ds"
   ]
  },
  {
   "cell_type": "code",
   "execution_count": 7,
   "id": "4793f273",
   "metadata": {},
   "outputs": [],
   "source": [
    "train_ds, val_ds, test_ds = get_dataset_partitions_tf(dataset)\n",
    "train_ds = train_ds.cache().shuffle(1000).prefetch(buffer_size=tf.data.AUTOTUNE)\n",
    "val_ds = val_ds.cache().shuffle(1000).prefetch(buffer_size=tf.data.AUTOTUNE)\n",
    "test_ds = test_ds.cache().shuffle(1000).prefetch(buffer_size=tf.data.AUTOTUNE)\n",
    "# caches images for next epoch, prefetch fetches next batch before next iteration"
   ]
  },
  {
   "cell_type": "code",
   "execution_count": 8,
   "id": "a311b099",
   "metadata": {},
   "outputs": [],
   "source": [
    "resize_and_rescale = tf.keras.Sequential(\n",
    "    [\n",
    "        layers.experimental.preprocessing.Resizing(IMAGE_SIZE, IMAGE_SIZE),\n",
    "        layers.experimental.preprocessing.Rescaling(1.0 / 255),\n",
    "    ]\n",
    ")"
   ]
  },
  {
   "cell_type": "code",
   "execution_count": 9,
   "id": "8be0e52d",
   "metadata": {},
   "outputs": [],
   "source": [
    "data_augmentation = tf.keras.Sequential(\n",
    "        [\n",
    "            layers.experimental.preprocessing.RandomFlip(\"horizontal_and_vertical\"),\n",
    "            layers.experimental.preprocessing.RandomRotation(0.2),\n",
    "        ]\n",
    "    )"
   ]
  },
  {
   "cell_type": "code",
   "execution_count": 10,
   "id": "7063d321",
   "metadata": {},
   "outputs": [],
   "source": [
    "input_shape = (BATCH_SIZE, IMAGE_SIZE, IMAGE_SIZE, CHANNELS)"
   ]
  },
  {
   "cell_type": "code",
   "execution_count": 11,
   "id": "2e4fb8fa",
   "metadata": {},
   "outputs": [],
   "source": [
    "model = models.Sequential(\n",
    "    [\n",
    "        resize_and_rescale,\n",
    "        data_augmentation,\n",
    "        layers.Conv2D(BATCH_SIZE, (3, 3), activation=\"relu\", input_shape=input_shape),\n",
    "        layers.MaxPooling2D((2, 2)),\n",
    "        layers.BatchNormalization(),\n",
    "        layers.Conv2D(\n",
    "            64,\n",
    "            (3, 3),\n",
    "            activation=\"relu\",\n",
    "            padding=\"same\",\n",
    "        ),\n",
    "        layers.MaxPooling2D((2, 2)),\n",
    "        layers.BatchNormalization(),\n",
    "        layers.Conv2D(\n",
    "            64,\n",
    "            (3, 3),\n",
    "            activation=\"relu\",\n",
    "            padding=\"same\",\n",
    "        ),\n",
    "        layers.MaxPooling2D((2, 2)),\n",
    "        layers.BatchNormalization(),\n",
    "        layers.Conv2D(\n",
    "            64,\n",
    "            (3, 3),\n",
    "            activation=\"relu\",\n",
    "            padding=\"same\",\n",
    "        ),\n",
    "        layers.MaxPooling2D((2, 2)),\n",
    "        layers.BatchNormalization(),\n",
    "        layers.Conv2D(\n",
    "            64,\n",
    "            (3, 3),\n",
    "            activation=\"relu\",\n",
    "            padding=\"same\",\n",
    "        ),\n",
    "        layers.MaxPooling2D((2, 2)),\n",
    "        layers.BatchNormalization(),\n",
    "        layers.Conv2D(\n",
    "            64,\n",
    "            (3, 3),\n",
    "            activation=\"relu\",\n",
    "            padding=\"same\",\n",
    "        ),\n",
    "        layers.MaxPooling2D((2, 2)),\n",
    "        layers.BatchNormalization(),\n",
    "        layers.Conv2D(\n",
    "            64,\n",
    "            (3, 3),\n",
    "            activation=\"relu\",\n",
    "            padding=\"same\",\n",
    "        ),\n",
    "        layers.MaxPooling2D((2, 2)),\n",
    "        layers.BatchNormalization(),\n",
    "        layers.Flatten(),\n",
    "        layers.Dense(64, activation=\"relu\"),\n",
    "        layers.Dense(n_classes, activation='softmax'),\n",
    "    ]\n",
    ")"
   ]
  },
  {
   "cell_type": "code",
   "execution_count": 12,
   "id": "34ffc3d0",
   "metadata": {},
   "outputs": [],
   "source": [
    "model.build(input_shape=input_shape)"
   ]
  },
  {
   "cell_type": "code",
   "execution_count": 13,
   "id": "d4e422ab",
   "metadata": {},
   "outputs": [],
   "source": [
    "lr_schedule = tf.keras.optimizers.schedules.ExponentialDecay(\n",
    "    initial_learning_rate=1e-3,\n",
    "    decay_steps=10000,\n",
    "    decay_rate=0.1,\n",
    "   )\n",
    "\n",
    "model.compile(\n",
    "    optimizer=tf.keras.optimizers.legacy.Adam(learning_rate=lr_schedule),\n",
    "    loss=tf.keras.losses.SparseCategoricalCrossentropy(from_logits=False),\n",
    "    metrics=[\"accuracy\"],\n",
    ")"
   ]
  },
  {
   "cell_type": "code",
   "execution_count": 14,
   "id": "f8164af1",
   "metadata": {},
   "outputs": [
    {
     "name": "stdout",
     "output_type": "stream",
     "text": [
      "Epoch 1/35\n",
      "200/200 [==============================] - 109s 513ms/step - loss: 0.8933 - accuracy: 0.7007 - val_loss: 3.9463 - val_accuracy: 0.1663\n",
      "Epoch 2/35\n",
      "200/200 [==============================] - 106s 531ms/step - loss: 0.4774 - accuracy: 0.8356 - val_loss: 3.7777 - val_accuracy: 0.2463\n",
      "Epoch 3/35\n",
      "200/200 [==============================] - 107s 535ms/step - loss: 0.3775 - accuracy: 0.8715 - val_loss: 1.6151 - val_accuracy: 0.5975\n",
      "Epoch 4/35\n",
      "200/200 [==============================] - 102s 512ms/step - loss: 0.2970 - accuracy: 0.9016 - val_loss: 1.2420 - val_accuracy: 0.7056\n",
      "Epoch 5/35\n",
      "200/200 [==============================] - 110s 550ms/step - loss: 0.2482 - accuracy: 0.9147 - val_loss: 2.5694 - val_accuracy: 0.4881\n",
      "Epoch 6/35\n",
      "200/200 [==============================] - 104s 520ms/step - loss: 0.2309 - accuracy: 0.9206 - val_loss: 2.5861 - val_accuracy: 0.5494\n",
      "Epoch 7/35\n",
      "200/200 [==============================] - 107s 537ms/step - loss: 0.2012 - accuracy: 0.9309 - val_loss: 0.5611 - val_accuracy: 0.8144\n",
      "Epoch 8/35\n",
      "200/200 [==============================] - 103s 516ms/step - loss: 0.1725 - accuracy: 0.9394 - val_loss: 0.6693 - val_accuracy: 0.7906\n",
      "Epoch 9/35\n",
      "200/200 [==============================] - 105s 524ms/step - loss: 0.1637 - accuracy: 0.9423 - val_loss: 0.5186 - val_accuracy: 0.8487\n",
      "Epoch 10/35\n",
      "200/200 [==============================] - 107s 537ms/step - loss: 0.1359 - accuracy: 0.9538 - val_loss: 1.6160 - val_accuracy: 0.6687\n",
      "Epoch 11/35\n",
      "200/200 [==============================] - 106s 528ms/step - loss: 0.1288 - accuracy: 0.9562 - val_loss: 0.5611 - val_accuracy: 0.8344\n",
      "Epoch 12/35\n",
      "200/200 [==============================] - 107s 535ms/step - loss: 0.1095 - accuracy: 0.9624 - val_loss: 1.3643 - val_accuracy: 0.7006\n",
      "Epoch 13/35\n",
      "200/200 [==============================] - 106s 531ms/step - loss: 0.1036 - accuracy: 0.9648 - val_loss: 0.9604 - val_accuracy: 0.7788\n",
      "Epoch 14/35\n",
      "200/200 [==============================] - 103s 513ms/step - loss: 0.1041 - accuracy: 0.9645 - val_loss: 0.7035 - val_accuracy: 0.8119\n",
      "Epoch 15/35\n",
      "200/200 [==============================] - 106s 531ms/step - loss: 0.0956 - accuracy: 0.9675 - val_loss: 1.1225 - val_accuracy: 0.7250\n",
      "Epoch 16/35\n",
      "200/200 [==============================] - 107s 534ms/step - loss: 0.0879 - accuracy: 0.9701 - val_loss: 1.2077 - val_accuracy: 0.7669\n",
      "Epoch 17/35\n",
      "200/200 [==============================] - 112s 562ms/step - loss: 0.0915 - accuracy: 0.9679 - val_loss: 0.2324 - val_accuracy: 0.9187\n",
      "Epoch 18/35\n",
      "200/200 [==============================] - 110s 547ms/step - loss: 0.0811 - accuracy: 0.9713 - val_loss: 0.7880 - val_accuracy: 0.8338\n",
      "Epoch 19/35\n",
      "200/200 [==============================] - 108s 539ms/step - loss: 0.0753 - accuracy: 0.9744 - val_loss: 0.8567 - val_accuracy: 0.7981\n",
      "Epoch 20/35\n",
      "200/200 [==============================] - 107s 535ms/step - loss: 0.0715 - accuracy: 0.9751 - val_loss: 0.4167 - val_accuracy: 0.8881\n",
      "Epoch 21/35\n",
      "200/200 [==============================] - 106s 527ms/step - loss: 0.0642 - accuracy: 0.9766 - val_loss: 0.5056 - val_accuracy: 0.8662\n",
      "Epoch 22/35\n",
      "200/200 [==============================] - 105s 525ms/step - loss: 0.0580 - accuracy: 0.9801 - val_loss: 2.6498 - val_accuracy: 0.6363\n",
      "Epoch 23/35\n",
      "200/200 [==============================] - 108s 539ms/step - loss: 0.0581 - accuracy: 0.9780 - val_loss: 0.4673 - val_accuracy: 0.8775\n",
      "Epoch 24/35\n",
      "200/200 [==============================] - 106s 529ms/step - loss: 0.0515 - accuracy: 0.9822 - val_loss: 0.3575 - val_accuracy: 0.8944\n",
      "Epoch 25/35\n",
      "200/200 [==============================] - 119s 595ms/step - loss: 0.0443 - accuracy: 0.9848 - val_loss: 0.4839 - val_accuracy: 0.8788\n",
      "Epoch 26/35\n",
      "200/200 [==============================] - 157s 776ms/step - loss: 0.0540 - accuracy: 0.9800 - val_loss: 0.3962 - val_accuracy: 0.9031\n",
      "Epoch 27/35\n",
      "200/200 [==============================] - 105s 522ms/step - loss: 0.0412 - accuracy: 0.9865 - val_loss: 0.2731 - val_accuracy: 0.9206\n",
      "Epoch 28/35\n",
      "200/200 [==============================] - 108s 541ms/step - loss: 0.0406 - accuracy: 0.9870 - val_loss: 0.7096 - val_accuracy: 0.8338\n",
      "Epoch 29/35\n",
      "200/200 [==============================] - 106s 529ms/step - loss: 0.0361 - accuracy: 0.9877 - val_loss: 0.4309 - val_accuracy: 0.8844\n",
      "Epoch 30/35\n",
      "200/200 [==============================] - 108s 537ms/step - loss: 0.0338 - accuracy: 0.9888 - val_loss: 0.2013 - val_accuracy: 0.9344\n",
      "Epoch 31/35\n",
      "200/200 [==============================] - 106s 528ms/step - loss: 0.0305 - accuracy: 0.9905 - val_loss: 0.3035 - val_accuracy: 0.9156\n",
      "Epoch 32/35\n",
      "200/200 [==============================] - 110s 550ms/step - loss: 0.0321 - accuracy: 0.9892 - val_loss: 0.4843 - val_accuracy: 0.8819\n",
      "Epoch 33/35\n",
      "200/200 [==============================] - 109s 545ms/step - loss: 0.0295 - accuracy: 0.9896 - val_loss: 0.4161 - val_accuracy: 0.9044\n",
      "Epoch 34/35\n",
      "200/200 [==============================] - 111s 556ms/step - loss: 0.0264 - accuracy: 0.9916 - val_loss: 0.2299 - val_accuracy: 0.9388\n",
      "Epoch 35/35\n",
      "200/200 [==============================] - 111s 556ms/step - loss: 0.0277 - accuracy: 0.9916 - val_loss: 0.2192 - val_accuracy: 0.9331\n"
     ]
    }
   ],
   "source": [
    "history = model.fit(\n",
    "    train_ds,\n",
    "    epochs=EPOCHS,\n",
    "    batch_size=BATCH_SIZE,\n",
    "    verbose=1,\n",
    "    validation_data=val_ds,\n",
    ")"
   ]
  },
  {
   "cell_type": "code",
   "execution_count": 15,
   "id": "5ae826c3",
   "metadata": {},
   "outputs": [
    {
     "name": "stdout",
     "output_type": "stream",
     "text": [
      "26/26 [==============================] - 4s 68ms/step - loss: 0.2158 - accuracy: 0.9392\n"
     ]
    }
   ],
   "source": [
    "scores = model.evaluate(test_ds)"
   ]
  },
  {
   "cell_type": "code",
   "execution_count": 16,
   "id": "89eaf562",
   "metadata": {},
   "outputs": [
    {
     "name": "stdout",
     "output_type": "stream",
     "text": [
      "INFO:tensorflow:Assets written to: ../model/4/assets\n"
     ]
    },
    {
     "name": "stderr",
     "output_type": "stream",
     "text": [
      "INFO:tensorflow:Assets written to: ../model/4/assets\n"
     ]
    }
   ],
   "source": [
    "model.save(\"../model/4\")"
   ]
  },
  {
   "cell_type": "code",
   "execution_count": null,
   "id": "f5ed267f",
   "metadata": {},
   "outputs": [],
   "source": []
  }
 ],
 "metadata": {
  "kernelspec": {
   "display_name": "Python 3 (ipykernel)",
   "language": "python",
   "name": "python3"
  },
  "language_info": {
   "codemirror_mode": {
    "name": "ipython",
    "version": 3
   },
   "file_extension": ".py",
   "mimetype": "text/x-python",
   "name": "python",
   "nbconvert_exporter": "python",
   "pygments_lexer": "ipython3",
   "version": "3.10.9"
  }
 },
 "nbformat": 4,
 "nbformat_minor": 5
}
