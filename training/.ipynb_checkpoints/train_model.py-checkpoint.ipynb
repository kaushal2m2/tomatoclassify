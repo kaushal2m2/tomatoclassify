{
 "cells": [
  {
   "cell_type": "code",
   "execution_count": 14,
   "id": "5d7dc161",
   "metadata": {},
   "outputs": [],
   "source": [
    "import tensorflow as tf\n",
    "from tensorflow.keras import models, layers\n",
    "import matplotlib.pyplot as plt"
   ]
  },
  {
   "cell_type": "code",
   "execution_count": 15,
   "id": "4a55895f",
   "metadata": {},
   "outputs": [
    {
     "data": {
      "text/plain": [
       "[PhysicalDevice(name='/physical_device:CPU:0', device_type='CPU'),\n",
       " PhysicalDevice(name='/physical_device:GPU:0', device_type='GPU')]"
      ]
     },
     "execution_count": 15,
     "metadata": {},
     "output_type": "execute_result"
    }
   ],
   "source": [
    "IMAGE_SIZE = 256\n",
    "BATCH_SIZE = 32\n",
    "CHANNELS = 3\n",
    "EPOCHS = 35\n",
    "n_classes = 10\n",
    "\n",
    "tf.config.get_visible_devices()"
   ]
  },
  {
   "cell_type": "code",
   "execution_count": 16,
   "id": "403d4616",
   "metadata": {},
   "outputs": [
    {
     "name": "stdout",
     "output_type": "stream",
     "text": [
      "Found 16011 files belonging to 10 classes.\n"
     ]
    }
   ],
   "source": [
    "dataset = tf.keras.preprocessing.image_dataset_from_directory(\n",
    "    \"Tomatoes\",\n",
    "    shuffle=True,\n",
    "    image_size=(IMAGE_SIZE, IMAGE_SIZE),\n",
    "    batch_size=BATCH_SIZE,\n",
    ")"
   ]
  },
  {
   "cell_type": "code",
   "execution_count": 17,
   "id": "cc0673e5",
   "metadata": {},
   "outputs": [
    {
     "name": "stdout",
     "output_type": "stream",
     "text": [
      "['Tomato_Bacterial_spot', 'Tomato_Early_blight', 'Tomato_Late_blight', 'Tomato_Leaf_Mold', 'Tomato_Septoria_leaf_spot', 'Tomato_Spider_mites_Two_spotted_spider_mite', 'Tomato__Target_Spot', 'Tomato__Tomato_YellowLeaf__Curl_Virus', 'Tomato__Tomato_mosaic_virus', 'Tomato_healthy']\n"
     ]
    }
   ],
   "source": [
    "class_names = dataset.class_names\n",
    "print(class_names)"
   ]
  },
  {
   "cell_type": "code",
   "execution_count": 18,
   "id": "b986a774",
   "metadata": {},
   "outputs": [],
   "source": [
    "def get_dataset_partitions_tf(\n",
    "    ds, train_split=0.8, val_split=0.1, test_split=0.1, shuffle=True, shuffle_size=10000\n",
    "):\n",
    "    ds_size = len(ds)\n",
    "    train_size = int(train_split * ds_size)\n",
    "    val_size = int(val_split * ds_size)\n",
    "\n",
    "    if shuffle:\n",
    "        ds.shuffle(shuffle_size, seed=22)\n",
    "\n",
    "    train_ds = ds.take(train_size)\n",
    "    val_ds = ds.skip(train_size).take(val_size)\n",
    "    test_ds = ds.skip(train_size + val_size)\n",
    "\n",
    "    return train_ds, val_ds, test_ds"
   ]
  },
  {
   "cell_type": "code",
   "execution_count": 19,
   "id": "4793f273",
   "metadata": {},
   "outputs": [],
   "source": [
    "train_ds, val_ds, test_ds = get_dataset_partitions_tf(dataset)\n",
    "train_ds = train_ds.cache().shuffle(1000).prefetch(buffer_size=tf.data.AUTOTUNE)\n",
    "val_ds = val_ds.cache().shuffle(1000).prefetch(buffer_size=tf.data.AUTOTUNE)\n",
    "test_ds = test_ds.cache().shuffle(1000).prefetch(buffer_size=tf.data.AUTOTUNE)\n",
    "# caches images for next epoch, prefetch fetches next batch before next iteration"
   ]
  },
  {
   "cell_type": "code",
   "execution_count": 20,
   "id": "a311b099",
   "metadata": {},
   "outputs": [],
   "source": [
    "resize_and_rescale = tf.keras.Sequential(\n",
    "    [\n",
    "        layers.experimental.preprocessing.Resizing(IMAGE_SIZE, IMAGE_SIZE),\n",
    "        layers.experimental.preprocessing.Rescaling(1.0 / 255),\n",
    "    ]\n",
    ")"
   ]
  },
  {
   "cell_type": "code",
   "execution_count": 21,
   "id": "8be0e52d",
   "metadata": {},
   "outputs": [],
   "source": [
    "data_augmentation = tf.keras.Sequential(\n",
    "        [\n",
    "            layers.experimental.preprocessing.RandomFlip(\"horizontal_and_vertical\"),\n",
    "            layers.experimental.preprocessing.RandomRotation(0.2),\n",
    "        ]\n",
    "    )"
   ]
  },
  {
   "cell_type": "code",
   "execution_count": 22,
   "id": "7063d321",
   "metadata": {},
   "outputs": [],
   "source": [
    "input_shape = (BATCH_SIZE, IMAGE_SIZE, IMAGE_SIZE, CHANNELS)"
   ]
  },
  {
   "cell_type": "code",
   "execution_count": 23,
   "id": "2e4fb8fa",
   "metadata": {},
   "outputs": [],
   "source": [
    "model = models.Sequential(\n",
    "    [\n",
    "        resize_and_rescale,\n",
    "        data_augmentation,\n",
    "        layers.Conv2D(32, (3, 3), activation=\"relu\", input_shape=input_shape),\n",
    "        layers.MaxPooling2D((2, 2)),\n",
    "        layers.Conv2D(\n",
    "            64,\n",
    "            (3, 3),\n",
    "            activation=\"relu\",\n",
    "            padding=\"same\",\n",
    "        ),\n",
    "        layers.MaxPooling2D((2, 2)),\n",
    "        layers.Conv2D(\n",
    "            64,\n",
    "            (3, 3),\n",
    "            activation=\"relu\",\n",
    "            padding=\"same\",\n",
    "        ),\n",
    "        layers.MaxPooling2D((2, 2)),\n",
    "        layers.Conv2D(\n",
    "            64,\n",
    "            (3, 3),\n",
    "            activation=\"relu\",\n",
    "            padding=\"same\",\n",
    "        ),\n",
    "        layers.MaxPooling2D((2, 2)),\n",
    "        layers.Conv2D(\n",
    "            64,\n",
    "            (3, 3),\n",
    "            activation=\"relu\",\n",
    "            padding=\"same\",\n",
    "        ),\n",
    "        layers.MaxPooling2D((2, 2)),\n",
    "        layers.Conv2D(\n",
    "            64,\n",
    "            (3, 3),\n",
    "            activation=\"relu\",\n",
    "            padding=\"same\",\n",
    "        ),\n",
    "        layers.MaxPooling2D((2, 2)),\n",
    "        layers.Conv2D(\n",
    "            64,\n",
    "            (3, 3),\n",
    "            activation=\"relu\",\n",
    "            padding=\"same\",\n",
    "        ),\n",
    "        layers.MaxPooling2D((2, 2)),\n",
    "        layers.Flatten(),\n",
    "        layers.Dense(64, activation=\"relu\"),\n",
    "        layers.Dense(n_classes, activation=\"softmax\"),\n",
    "    ]\n",
    ")"
   ]
  },
  {
   "cell_type": "code",
   "execution_count": 24,
   "id": "34ffc3d0",
   "metadata": {},
   "outputs": [],
   "source": [
    "model.build(input_shape=input_shape)"
   ]
  },
  {
   "cell_type": "code",
   "execution_count": 26,
   "id": "d4e422ab",
   "metadata": {},
   "outputs": [],
   "source": [
    "lr_schedule = tf.keras.optimizers.schedules.ExponentialDecay(\n",
    "    initial_learning_rate=1e-2,\n",
    "    decay_steps=1000,\n",
    "    decay_rate=0.9,\n",
    "    verbose=True)\n",
    "\n",
    "model.compile(\n",
    "    optimizer=tf.keras.optimizers.legacy.SGD(learning_rate=lr_schedule),\n",
    "    loss=tf.keras.losses.SparseCategoricalCrossentropy(from_logits=False),\n",
    "    metrics=[\"accuracy\"],\n",
    ")"
   ]
  },
  {
   "cell_type": "code",
   "execution_count": 27,
   "id": "f8164af1",
   "metadata": {},
   "outputs": [
    {
     "name": "stdout",
     "output_type": "stream",
     "text": [
      "Epoch 1/35\n",
      "400/400 [==============================] - 95s 221ms/step - loss: 2.2473 - accuracy: 0.1947 - val_loss: 2.1831 - val_accuracy: 0.2150\n",
      "Epoch 2/35\n",
      "400/400 [==============================] - 94s 233ms/step - loss: 2.1526 - accuracy: 0.2110 - val_loss: 2.2367 - val_accuracy: 0.1625\n",
      "Epoch 3/35\n",
      "400/400 [==============================] - 92s 229ms/step - loss: 1.9100 - accuracy: 0.3259 - val_loss: 1.7317 - val_accuracy: 0.4075\n",
      "Epoch 4/35\n",
      "400/400 [==============================] - 87s 217ms/step - loss: 1.7298 - accuracy: 0.4021 - val_loss: 1.5444 - val_accuracy: 0.4487\n",
      "Epoch 5/35\n",
      "400/400 [==============================] - 84s 209ms/step - loss: 1.6112 - accuracy: 0.4370 - val_loss: 1.3477 - val_accuracy: 0.5188\n",
      "Epoch 6/35\n",
      "400/400 [==============================] - 82s 206ms/step - loss: 1.5112 - accuracy: 0.4715 - val_loss: 1.7670 - val_accuracy: 0.3881\n",
      "Epoch 7/35\n",
      "400/400 [==============================] - 85s 211ms/step - loss: 1.4233 - accuracy: 0.5027 - val_loss: 1.5689 - val_accuracy: 0.4850\n",
      "Epoch 8/35\n",
      "400/400 [==============================] - 86s 214ms/step - loss: 1.3267 - accuracy: 0.5355 - val_loss: 1.3489 - val_accuracy: 0.5244\n",
      "Epoch 9/35\n",
      "400/400 [==============================] - 86s 214ms/step - loss: 1.2458 - accuracy: 0.5747 - val_loss: 1.0588 - val_accuracy: 0.6200\n",
      "Epoch 10/35\n",
      "400/400 [==============================] - 83s 208ms/step - loss: 1.1735 - accuracy: 0.5952 - val_loss: 1.1283 - val_accuracy: 0.6025\n",
      "Epoch 11/35\n",
      "400/400 [==============================] - 85s 212ms/step - loss: 1.1432 - accuracy: 0.6069 - val_loss: 0.9940 - val_accuracy: 0.6419\n",
      "Epoch 12/35\n",
      "400/400 [==============================] - 82s 205ms/step - loss: 1.1023 - accuracy: 0.6227 - val_loss: 1.1026 - val_accuracy: 0.5962\n",
      "Epoch 13/35\n",
      "400/400 [==============================] - 82s 206ms/step - loss: 1.0643 - accuracy: 0.6351 - val_loss: 1.0152 - val_accuracy: 0.6569\n",
      "Epoch 14/35\n",
      "400/400 [==============================] - 82s 205ms/step - loss: 1.0561 - accuracy: 0.6452 - val_loss: 0.8593 - val_accuracy: 0.6756\n",
      "Epoch 15/35\n",
      "400/400 [==============================] - 81s 203ms/step - loss: 1.0532 - accuracy: 0.6430 - val_loss: 0.7993 - val_accuracy: 0.7169\n",
      "Epoch 16/35\n",
      "400/400 [==============================] - 90s 224ms/step - loss: 1.0966 - accuracy: 0.6357 - val_loss: 0.8677 - val_accuracy: 0.7163\n",
      "Epoch 17/35\n",
      "400/400 [==============================] - 92s 229ms/step - loss: 1.1474 - accuracy: 0.6401 - val_loss: 1.0999 - val_accuracy: 0.5994\n",
      "Epoch 18/35\n",
      "400/400 [==============================] - 92s 229ms/step - loss: 1.1514 - accuracy: 0.6280 - val_loss: 1.2037 - val_accuracy: 0.6200\n",
      "Epoch 19/35\n",
      "400/400 [==============================] - 87s 218ms/step - loss: 1.2920 - accuracy: 0.6184 - val_loss: 0.9587 - val_accuracy: 0.6762\n",
      "Epoch 20/35\n",
      "400/400 [==============================] - 87s 218ms/step - loss: 1.5609 - accuracy: 0.5888 - val_loss: 1.1944 - val_accuracy: 0.6175\n",
      "Epoch 21/35\n",
      "400/400 [==============================] - 81s 203ms/step - loss: 2.1585 - accuracy: 0.5333 - val_loss: 2.9068 - val_accuracy: 0.5281\n",
      "Epoch 22/35\n",
      "400/400 [==============================] - 80s 200ms/step - loss: 2.4244 - accuracy: 0.5223 - val_loss: 5.2835 - val_accuracy: 0.5025\n",
      "Epoch 23/35\n",
      "400/400 [==============================] - 82s 205ms/step - loss: 2.3078 - accuracy: 0.5664 - val_loss: 1.1921 - val_accuracy: 0.6406\n",
      "Epoch 24/35\n",
      "400/400 [==============================] - 83s 206ms/step - loss: 2.3751 - accuracy: 0.5832 - val_loss: 2.3393 - val_accuracy: 0.4994\n",
      "Epoch 25/35\n",
      "400/400 [==============================] - 79s 197ms/step - loss: 3.1168 - accuracy: 0.5141 - val_loss: 1.6765 - val_accuracy: 0.4762\n",
      "Epoch 26/35\n",
      "400/400 [==============================] - 82s 203ms/step - loss: 1.9023 - accuracy: 0.4461 - val_loss: 1.7218 - val_accuracy: 0.4338\n",
      "Epoch 27/35\n",
      "400/400 [==============================] - 83s 207ms/step - loss: 1.9939 - accuracy: 0.4666 - val_loss: 1.1562 - val_accuracy: 0.6106\n",
      "Epoch 28/35\n",
      "400/400 [==============================] - 81s 202ms/step - loss: 1.3478 - accuracy: 0.5677 - val_loss: 1.2789 - val_accuracy: 0.5663\n",
      "Epoch 29/35\n",
      "400/400 [==============================] - 82s 205ms/step - loss: 1.4992 - accuracy: 0.5755 - val_loss: 2.0055 - val_accuracy: 0.4769\n",
      "Epoch 30/35\n",
      "400/400 [==============================] - 82s 204ms/step - loss: 2.0635 - accuracy: 0.5549 - val_loss: 2.0176 - val_accuracy: 0.5025\n",
      "Epoch 31/35\n",
      "400/400 [==============================] - 86s 215ms/step - loss: 2.5574 - accuracy: 0.5577 - val_loss: 3.0997 - val_accuracy: 0.4769\n",
      "Epoch 32/35\n",
      "400/400 [==============================] - 91s 227ms/step - loss: 2.6878 - accuracy: 0.5434 - val_loss: 2.9514 - val_accuracy: 0.5194\n",
      "Epoch 33/35\n",
      "400/400 [==============================] - 93s 231ms/step - loss: 2.4445 - accuracy: 0.6059 - val_loss: 1.1574 - val_accuracy: 0.6950\n",
      "Epoch 34/35\n",
      "400/400 [==============================] - 93s 232ms/step - loss: 2.8257 - accuracy: 0.6145 - val_loss: 2.8270 - val_accuracy: 0.5556\n",
      "Epoch 35/35\n",
      "400/400 [==============================] - 92s 229ms/step - loss: 2.4698 - accuracy: 0.6417 - val_loss: 6.9115 - val_accuracy: 0.4519\n"
     ]
    }
   ],
   "source": [
    "history = model.fit(\n",
    "    train_ds,\n",
    "    epochs=EPOCHS,\n",
    "    batch_size=BATCH_SIZE,\n",
    "    verbose=1,\n",
    "    validation_data=val_ds,\n",
    ")"
   ]
  },
  {
   "cell_type": "code",
   "execution_count": null,
   "id": "1290696b",
   "metadata": {},
   "outputs": [],
   "source": [
    "print(tf.config.list_physical_devices('GPU'))"
   ]
  },
  {
   "cell_type": "code",
   "execution_count": null,
   "id": "5ae826c3",
   "metadata": {},
   "outputs": [],
   "source": [
    "scores = model.evaluate(test_ds)"
   ]
  },
  {
   "cell_type": "code",
   "execution_count": 13,
   "id": "89eaf562",
   "metadata": {},
   "outputs": [
    {
     "name": "stdout",
     "output_type": "stream",
     "text": [
      "WARNING:tensorflow:Compiled the loaded model, but the compiled metrics have yet to be built. `model.compile_metrics` will be empty until you train or evaluate the model.\n",
      "INFO:tensorflow:Assets written to: ../model/3/assets\n"
     ]
    },
    {
     "name": "stderr",
     "output_type": "stream",
     "text": [
      "INFO:tensorflow:Assets written to: ../model/3/assets\n"
     ]
    }
   ],
   "source": [
    "model.save(\"../model/3\")"
   ]
  },
  {
   "cell_type": "code",
   "execution_count": null,
   "id": "816d08aa",
   "metadata": {},
   "outputs": [],
   "source": []
  }
 ],
 "metadata": {
  "kernelspec": {
   "display_name": "Python 3 (ipykernel)",
   "language": "python",
   "name": "python3"
  },
  "language_info": {
   "codemirror_mode": {
    "name": "ipython",
    "version": 3
   },
   "file_extension": ".py",
   "mimetype": "text/x-python",
   "name": "python",
   "nbconvert_exporter": "python",
   "pygments_lexer": "ipython3",
   "version": "3.10.9"
  }
 },
 "nbformat": 4,
 "nbformat_minor": 5
}
